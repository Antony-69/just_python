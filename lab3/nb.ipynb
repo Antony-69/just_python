{
 "cells": [
  {
   "cell_type": "markdown",
   "id": "04670aa1",
   "metadata": {},
   "source": [
    "Завдання 1.\n",
    "Виведіть приклади всіх типів літералів: число, число з плаваючою комою,\n",
    "рядок, логічне значення, None."
   ]
  },
  {
   "cell_type": "code",
   "execution_count": 1,
   "id": "9ce1b658",
   "metadata": {},
   "outputs": [
    {
     "name": "stdout",
     "output_type": "stream",
     "text": [
      "12\n",
      "12.34\n",
      "12\n",
      "True\n",
      "None\n"
     ]
    }
   ],
   "source": [
    "print(int(12))\n",
    "print(12.34)\n",
    "print(\"12\")\n",
    "print(True)\n",
    "print(None)"
   ]
  },
  {
   "cell_type": "markdown",
   "id": "6e6fa210",
   "metadata": {},
   "source": [
    "Завдання 2.\n",
    "Напишіть програму, яка друкує три рядки з різними видами лапок."
   ]
  },
  {
   "cell_type": "code",
   "execution_count": 3,
   "id": "f94d4cea",
   "metadata": {},
   "outputs": [
    {
     "name": "stdout",
     "output_type": "stream",
     "text": [
      "\"Mercury\"\n",
      "'Grand'\n",
      "Marquis\n",
      "also here's apostrophe\n"
     ]
    }
   ],
   "source": [
    "print(\"\\\"Mercury\\\"\")\n",
    "print('\\'Grand\\'')\n",
    "print(\"\"\"Marquis\"\"\")\n",
    "print('''also here\\'s apostrophe''')"
   ]
  },
  {
   "cell_type": "markdown",
   "id": "40ce5aa3",
   "metadata": {},
   "source": [
    "Завдання 3.\n",
    "Виведіть суму, різницю та добуток двох числових літералів."
   ]
  },
  {
   "cell_type": "code",
   "execution_count": 4,
   "id": "e3bbc76f",
   "metadata": {},
   "outputs": [
    {
     "name": "stdout",
     "output_type": "stream",
     "text": [
      "15\n",
      "5\n",
      "50\n"
     ]
    }
   ],
   "source": [
    "print(5 + 10)\n",
    "print(10 - 5)\n",
    "print(5 * 10)"
   ]
  },
  {
   "cell_type": "markdown",
   "id": "6cc41df8",
   "metadata": {},
   "source": [
    "Завдання 4.\n",
    "Використайте логічні літерали у виразі, наприклад:\n",
    "print(True and False)\n",
    "print(True or False)"
   ]
  },
  {
   "cell_type": "code",
   "execution_count": 6,
   "id": "2a57236f",
   "metadata": {},
   "outputs": [
    {
     "name": "stdout",
     "output_type": "stream",
     "text": [
      "False\n",
      "True\n",
      "False\n",
      "True\n"
     ]
    }
   ],
   "source": [
    "print(True and False)\n",
    "print(True or False)\n",
    "print(not True)\n",
    "print(not False)"
   ]
  },
  {
   "cell_type": "markdown",
   "id": "55e25c16",
   "metadata": {},
   "source": [
    "Завдання 5.\n",
    "Створіть список із трьох рядкових літералів та виведіть його на екран."
   ]
  },
  {
   "cell_type": "code",
   "execution_count": 9,
   "id": "ac7cb545",
   "metadata": {},
   "outputs": [
    {
     "name": "stdout",
     "output_type": "stream",
     "text": [
      "['Mercury', 'Grand', 'Marquis']\n"
     ]
    }
   ],
   "source": [
    "list = [\"Mercury\", \"Grand\", \"Marquis\"]\n",
    "print(list)"
   ]
  },
  {
   "cell_type": "markdown",
   "id": "086f9706",
   "metadata": {},
   "source": [
    "Завдання 6.\n",
    "Створіть словник з літералами:\n",
    "```\n",
    "{\"ім'я&quot;: &quot;Петро&quot;, &quot;курс&quot;: 2, &quot;стипендія&quot;: True}\n",
    "```\n",
    "і виведіть його."
   ]
  }
 ],
 "metadata": {
  "kernelspec": {
   "display_name": "Python 3",
   "language": "python",
   "name": "python3"
  },
  "language_info": {
   "codemirror_mode": {
    "name": "ipython",
    "version": 3
   },
   "file_extension": ".py",
   "mimetype": "text/x-python",
   "name": "python",
   "nbconvert_exporter": "python",
   "pygments_lexer": "ipython3",
   "version": "3.13.7"
  }
 },
 "nbformat": 4,
 "nbformat_minor": 5
}

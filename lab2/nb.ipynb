{
 "cells": [
  {
   "cell_type": "markdown",
   "id": "58e747bf",
   "metadata": {},
   "source": [
    "Завдання 1.\n",
    "Виведіть повідомлення:\n",
    "Мене звати <Ваше ім’я>, мені <Ваш вік> років.\n",
    "– використовуючи три різні способи: конкатенацію, format() і f-рядок"
   ]
  },
  {
   "cell_type": "code",
   "execution_count": 1,
   "id": "0e0c2063",
   "metadata": {},
   "outputs": [
    {
     "name": "stdout",
     "output_type": "stream",
     "text": [
      "My name is Antony and I am 18 years old.\n",
      "My name is Antony and I am 18 years old.\n",
      "My name is Antony and I am 18 years old.\n"
     ]
    }
   ],
   "source": [
    "name = \"Antony\"\n",
    "age = 18\n",
    "print(\"My name is \" + name + \" and I am \" + str(age) + \" years old.\")\n",
    "print(\"My name is {} and I am {} years old.\".format(name, age))\n",
    "print(f\"My name is {name} and I am {age} years old.\")"
   ]
  },
  {
   "cell_type": "markdown",
   "id": "2b611bc3",
   "metadata": {},
   "source": [
    "Завдання 2.\n",
    "Виведіть таблицю множення числа 7 у вигляді:\n",
    "```\n",
    "7 x 1 = 7\n",
    "7 x 2 = 14\n",
    "...\n",
    "```"
   ]
  },
  {
   "cell_type": "code",
   "execution_count": 2,
   "id": "a81300ef",
   "metadata": {},
   "outputs": [
    {
     "name": "stdout",
     "output_type": "stream",
     "text": [
      "7 x 1 = 7\n",
      "7 x 2 = 14\n",
      "7 x 3 = 21\n",
      "7 x 4 = 28\n",
      "7 x 5 = 35\n",
      "7 x 6 = 42\n",
      "7 x 7 = 49\n",
      "7 x 8 = 56\n",
      "7 x 9 = 63\n",
      "7 x 10 = 70\n"
     ]
    }
   ],
   "source": [
    "for i in range(1, 11):\n",
    "    print(f\"7 x {i} = {7*i}\")"
   ]
  },
  {
   "cell_type": "markdown",
   "id": "7e39cb2e",
   "metadata": {},
   "source": [
    "Завдання 3.\n",
    "Створіть програму, яка виводить число Пі з точністю до 2, 3 та 5 знаків після коми."
   ]
  },
  {
   "cell_type": "code",
   "execution_count": 4,
   "id": "7dbabe40",
   "metadata": {},
   "outputs": [
    {
     "name": "stdout",
     "output_type": "stream",
     "text": [
      "3.14\n",
      "3.142\n",
      "3.14159\n"
     ]
    }
   ],
   "source": [
    "import math\n",
    "pi = math.pi\n",
    "print(f\"{pi:.2f}\")\n",
    "print(f\"{pi:.3f}\")\n",
    "print(f\"{pi:.5f}\")\n"
   ]
  },
  {
   "cell_type": "markdown",
   "id": "b8198185",
   "metadata": {},
   "source": [
    "Завдання 4.\n",
    "Виведіть числа від 1 до 10 у два стовпці: у першому – саме число, у другому – його квадрат. Використайте форматування для вирівнювання по ширині."
   ]
  },
  {
   "cell_type": "code",
   "execution_count": 14,
   "id": "9ffa3076",
   "metadata": {},
   "outputs": [
    {
     "name": "stdout",
     "output_type": "stream",
     "text": [
      "   1 \t    1\n",
      "   2 \t    4\n",
      "   3 \t    9\n",
      "   4 \t   16\n",
      "   5 \t   25\n",
      "   6 \t   36\n",
      "   7 \t   49\n",
      "   8 \t   64\n",
      "   9 \t   81\n",
      "  10 \t  100\n"
     ]
    }
   ],
   "source": [
    "for i in range(1, 11):\n",
    "    print(f\"{i:4.0f} \\t {i*i:4.0f}\")"
   ]
  },
  {
   "cell_type": "markdown",
   "id": "88c4c7bb",
   "metadata": {},
   "source": [
    "Завдання 5.\n",
    "Розробіть програму, яка виводить таблицю покупок у такому вигляді:\n",
    "```\n",
    "Товар        Кількість   Ціна\n",
    "Яблука       5           50.00\n",
    "Молоко       2           80.50\n",
    "Хліб         1           30.25\n",
    "```"
   ]
  },
  {
   "cell_type": "code",
   "execution_count": 2,
   "id": "499a7ba5",
   "metadata": {},
   "outputs": [
    {
     "name": "stdout",
     "output_type": "stream",
     "text": [
      "Товар        Кількість    Ціна        \n",
      "Яблука       10           5.00        \n",
      "Груші        5            7.00        \n",
      "Банани       8            6.00        \n"
     ]
    }
   ],
   "source": [
    "table = [\n",
    "    (\"Товар\", \"Кількість\", \"Ціна\"),\n",
    "    (\"Яблука\", 10, 5.0),\n",
    "    (\"Груші\", 5, 7.0),\n",
    "    (\"Банани\", 8, 6.0)\n",
    "]\n",
    "print(f\"{table[0][0]:<12} {table[0][1]:<12} {table[0][2]:<12}\")\n",
    "for item in table[1:]:\n",
    "    print(f\"{item[0]:<12} {item[1]:<12} {item[2]:<12.2f}\")  "
   ]
  }
 ],
 "metadata": {
  "kernelspec": {
   "display_name": "Python 3",
   "language": "python",
   "name": "python3"
  },
  "language_info": {
   "codemirror_mode": {
    "name": "ipython",
    "version": 3
   },
   "file_extension": ".py",
   "mimetype": "text/x-python",
   "name": "python",
   "nbconvert_exporter": "python",
   "pygments_lexer": "ipython3",
   "version": "3.13.7"
  }
 },
 "nbformat": 4,
 "nbformat_minor": 5
}

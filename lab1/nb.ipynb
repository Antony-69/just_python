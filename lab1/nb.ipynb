{
 "cells": [
  {
   "cell_type": "markdown",
   "id": "f773a3e5",
   "metadata": {},
   "source": [
    "#Завдання 1.\n",
    "Надрукуйте повідомлення «Моя перша програма на Python»."
   ]
  },
  {
   "cell_type": "code",
   "execution_count": 1,
   "id": "d73eac23",
   "metadata": {},
   "outputs": [
    {
     "name": "stdout",
     "output_type": "stream",
     "text": [
      "My first Python script\n"
     ]
    }
   ],
   "source": [
    "print(\"My first Python script\")"
   ]
  },
  {
   "cell_type": "markdown",
   "id": "5f8082e9",
   "metadata": {},
   "source": [
    "Завдання 2.\n",
    "Виведіть своє прізвище та ім’я в одному рядку."
   ]
  },
  {
   "cell_type": "code",
   "execution_count": 2,
   "id": "cad0472a",
   "metadata": {},
   "outputs": [
    {
     "name": "stdout",
     "output_type": "stream",
     "text": [
      "My name is Antony Matsyshyn\n"
     ]
    }
   ],
   "source": [
    "name = input(\"Insert your name: \")\n",
    "surname = input(\"Insert your surname: \")\n",
    "print(f\"My name is {name} {surname}\")"
   ]
  },
  {
   "cell_type": "markdown",
   "id": "7fa591e1",
   "metadata": {},
   "source": [
    "Завдання 3.\n",
    "Напишіть програму, яка виводить значення виразу 7 * 8."
   ]
  },
  {
   "cell_type": "code",
   "execution_count": 3,
   "id": "98964d19",
   "metadata": {},
   "outputs": [
    {
     "name": "stdout",
     "output_type": "stream",
     "text": [
      "56\n",
      "56\n"
     ]
    }
   ],
   "source": [
    "print(7*8)\n",
    "\n",
    "#or\n",
    "a = 7*8\n",
    "print(a)"
   ]
  },
  {
   "cell_type": "markdown",
   "id": "7cd3c745",
   "metadata": {},
   "source": [
    "Завдання 4.\n",
    "Створіть змінну name, запишіть у неї своє ім’я та виведіть рядок:\n",
    "Привіт, моє ім’я <ім’я>."
   ]
  },
  {
   "cell_type": "code",
   "execution_count": 4,
   "id": "fd07f5d3",
   "metadata": {},
   "outputs": [
    {
     "name": "stdout",
     "output_type": "stream",
     "text": [
      "Hello, Antony!\n"
     ]
    }
   ],
   "source": [
    "name = input(\"What is your name? \")\n",
    "print(f\"Hello, {name}!\")"
   ]
  },
  {
   "cell_type": "markdown",
   "id": "7bfe91da",
   "metadata": {},
   "source": [
    "Завдання 5.\n",
    "Виведіть три довільні слова в один рядок через кому та через тире (використайте параметр sep)."
   ]
  },
  {
   "cell_type": "code",
   "execution_count": 5,
   "id": "9a7edbb5",
   "metadata": {},
   "outputs": [
    {
     "name": "stdout",
     "output_type": "stream",
     "text": [
      "I, fucking, hate\n",
      "1962-Dodge-Dart\n"
     ]
    }
   ],
   "source": [
    "print(\"I\", \"fucking\", \"hate\", sep=\", \")\n",
    "print(\"1962\", \"Dodge\", \"Dart\", sep=\"-\")"
   ]
  },
  {
   "cell_type": "markdown",
   "id": "501de148",
   "metadata": {},
   "source": [
    "Завдання 6.\n",
    "Складіть програму, яка друкує таблицю:\n",
    "```\n",
    "1 2 3\n",
    "4 5 6\n",
    "7 8 9\n",
    "```"
   ]
  },
  {
   "cell_type": "code",
   "execution_count": 18,
   "id": "d5c57e98",
   "metadata": {},
   "outputs": [
    {
     "name": "stdout",
     "output_type": "stream",
     "text": [
      "\t 1 2 3 \n",
      " \t 4 5 6 \n",
      " \t 7 8 9\n",
      "1 2 3 \n",
      "4 5 6 \n",
      "7 8 9 \n"
     ]
    }
   ],
   "source": [
    "print(\"\\t\", 1, 2, 3, \"\\n\",\n",
    "      \"\\t\", 4, 5, 6, \"\\n\",\n",
    "      \"\\t\", 7, 8, 9)\n",
    "\n",
    "# or\n",
    "\n",
    "for i in range(1, 10):\n",
    "    print(i, end=\" \")\n",
    "    if i % 3 == 0:\n",
    "        print()"
   ]
  }
 ],
 "metadata": {
  "kernelspec": {
   "display_name": "Python 3",
   "language": "python",
   "name": "python3"
  },
  "language_info": {
   "codemirror_mode": {
    "name": "ipython",
    "version": 3
   },
   "file_extension": ".py",
   "mimetype": "text/x-python",
   "name": "python",
   "nbconvert_exporter": "python",
   "pygments_lexer": "ipython3",
   "version": "3.13.7"
  }
 },
 "nbformat": 4,
 "nbformat_minor": 5
}
